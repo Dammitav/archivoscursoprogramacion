{
  "nbformat": 4,
  "nbformat_minor": 0,
  "metadata": {
    "colab": {
      "provenance": []
    },
    "kernelspec": {
      "name": "python3",
      "display_name": "Python 3"
    },
    "language_info": {
      "name": "python"
    }
  },
  "cells": [
    {
      "cell_type": "markdown",
      "source": [
        "Un vendedor recibe un sueldo base más un 10% extra por\n",
        "comisión de sus ventas, el vendedor desea saber cuánto\n",
        "dinero obtendrá por concepto de comisiones por las tres\n",
        "ventas que realiza en el mes y el total que recibirá en\n",
        "el mes tomando en cuenta su sueldo base y comisiones."
      ],
      "metadata": {
        "id": "_fpuoa8n0K8Y"
      }
    },
    {
      "cell_type": "code",
      "source": [
        "# variable sueldo base\n",
        "sueldo_base = 1500000\n",
        "# variable para capturar la venta\n",
        "venta_1 = float(input(\"¿Cuanto fue el total de la venta_1?: \"))\n",
        "venta_2 = float(input(\"¿Cuanto fue el total de la venta_2?: \"))\n",
        "venta_3 = float(input(\"¿Cuanto fue el total de la venta_3?: \"))\n",
        "# Cálculo de la comision\n",
        "comision_1 = venta_1 * 0.10 \n",
        "comision_2 = venta_2 * 0.10 \n",
        "comision_3 = venta_3 * 0.10 \n",
        "# suma de la comision y la venta\n",
        "ventas = venta_1 + venta_2 + venta_3\n",
        "comision = comision_1 + comision_2 + comision_3\n",
        "total = ventas + comision\n",
        "# Muestro por pantalla el total con la comision\n",
        "print(\"la comision es = ${:,.0f} el total de ventas es =${:,.0f} y el total a pagar es=${:,.0f}\".format(comision, ventas, total ))\n",
        "#total a pagar por nomina\n",
        "con_nomina = sueldo_base + comision\n",
        "print(\"pago total nomina = ${:,.0f}\".format(con_nomina ))"
      ],
      "metadata": {
        "colab": {
          "base_uri": "https://localhost:8080/"
        },
        "id": "TcKjJFA30RfY",
        "outputId": "4c0d5292-49e5-4f0f-9a50-9677c65c3f05"
      },
      "execution_count": null,
      "outputs": [
        {
          "output_type": "stream",
          "name": "stdout",
          "text": [
            "¿Cuanto fue el total de la venta_1?: 150000\n",
            "¿Cuanto fue el total de la venta_2?: 200000\n",
            "¿Cuanto fue el total de la venta_3?: 50000\n",
            "la comision es = $40,000 el total de ventas es =$400,000 y el total a pagar es=$440,000\n",
            "pago total nomina = $1,540,000\n"
          ]
        }
      ]
    },
    {
      "cell_type": "markdown",
      "source": [
        "Una tienda ofrece un descuento del 15% sobre el total\n",
        "de la compra y un cliente desea saber cuánto deberá\n",
        "pagar finalmente por su compra."
      ],
      "metadata": {
        "id": "0Qyg6S0WJ4Ry"
      }
    },
    {
      "cell_type": "code",
      "source": [
        "# variable para capturar la venta\n",
        "venta = float(input(\"¿Cuanto fue el total de la compra?: \"))\n",
        "# Cálculo del descuento\n",
        "descuento = venta * 0.15 \n",
        "# resta del descuento con la venta\n",
        "total = venta - descuento\n",
        "# Muestro por pantalla el total con el descuento\n",
        "print(\"EL descuento es= ${:,.0f} y el total a pagar es=${:,.0f}\".format(descuento, total ))"
      ],
      "metadata": {
        "id": "PIhyvX3XJ5Tw",
        "colab": {
          "base_uri": "https://localhost:8080/"
        },
        "outputId": "645d62a9-ba2e-4cd1-ee89-1fb984516525"
      },
      "execution_count": null,
      "outputs": [
        {
          "output_type": "stream",
          "name": "stdout",
          "text": [
            "¿Cuanto fue el total de la compra?: 100000\n",
            "EL descuento es= $15,000 y el total a pagar es=$85,000\n"
          ]
        }
      ]
    },
    {
      "cell_type": "markdown",
      "source": [
        "Un alumno desea saber cuál será su calificación final en\n",
        "la materia de Algoritmos. Dicha calificación se compone\n",
        "de tres exámenes parciales."
      ],
      "metadata": {
        "id": "89EvV-4p2pgc"
      }
    },
    {
      "cell_type": "code",
      "source": [
        "cal1 = float(input(\"Digite la calificacion 1: \"))\n",
        "cal2 = float(input(\"Digite la calificacion 2: \"))\n",
        "cal3 = float(input(\"Digite la calificacion 3: \"))\n",
        "\n",
        "prom = round((cal1 + cal2 + cal3) / 3, 2)\n",
        "\n",
        "print(f\"su calificacion final es= {prom}\")"
      ],
      "metadata": {
        "colab": {
          "base_uri": "https://localhost:8080/"
        },
        "id": "kque4Z9L2rlJ",
        "outputId": "470e8d7e-03d5-4386-fcd3-ae499aa29129"
      },
      "execution_count": null,
      "outputs": [
        {
          "output_type": "stream",
          "name": "stdout",
          "text": [
            "Digite la calificacion 1: 4\n",
            "Digite la calificacion 2: 4\n",
            "Digite la calificacion 3: 4\n",
            "su calificacion final es= 4.0\n"
          ]
        }
      ]
    },
    {
      "cell_type": "markdown",
      "source": [
        "Un maestro desea saber qué porcentaje de hombres y que\n",
        "porcentaje de mujeres hay en un grupo de estudiantes."
      ],
      "metadata": {
        "id": "cta_jhdf3zG9"
      }
    },
    {
      "cell_type": "code",
      "source": [
        "grupo = float(input(\"Digite número de estudiantes: \") )\n",
        "hombres = float(input(\"Digite número de hombres: \"))\n",
        "mujeres = float(input(\"Digite número de mujeres: \"))\n",
        "\n",
        "porc_hombre = round((hombres * 100) / grupo, 2)\n",
        "porc_mujeres = round((mujeres * 100) / grupo, 2)\n",
        "\n",
        "print(f\"El porcentaje de hombres es= {porc_hombre}% y el porcentaje de mujeres es= {porc_mujeres}%\")"
      ],
      "metadata": {
        "colab": {
          "base_uri": "https://localhost:8080/"
        },
        "id": "-ihD3ZwI3z5j",
        "outputId": "c05db6c2-3ea0-4717-e8ab-7209d285690d"
      },
      "execution_count": null,
      "outputs": [
        {
          "output_type": "stream",
          "name": "stdout",
          "text": [
            "Digite número de estudiantes: 384\n",
            "Digite número de hombres: 45\n",
            "Digite número de mujeres: 339\n",
            "El porcentaje de hombres es= 11.72% y el porcentaje de mujeres es= 88.28%\n"
          ]
        }
      ]
    }
  ]
}