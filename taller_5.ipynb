{
  "nbformat": 4,
  "nbformat_minor": 0,
  "metadata": {
    "colab": {
      "provenance": []
    },
    "kernelspec": {
      "name": "python3",
      "display_name": "Python 3"
    },
    "language_info": {
      "name": "python"
    }
  },
  "cells": [
    {
      "cell_type": "markdown",
      "source": [
        "Es integrar Ciclos y Funciones en el código del Taller 1 y Taller 2."
      ],
      "metadata": {
        "id": "6t9JCLVU6K4J"
      }
    },
    {
      "cell_type": "code",
      "source": [
        "#Ciclo\n",
        "cal1 = float(input(\"Digite la calificacion 1: \"))\n",
        "cal2 = float(input(\"Digite la calificacion 2: \"))\n",
        "cal3 = float(input(\"Digite la calificacion 3: \"))\n",
        "\n",
        "prom = round((cal1 + cal2 + cal3) / 3, 2)\n",
        "\n",
        "print(f\"su calificacion final es= {prom}\")\n",
        "\n",
        "x = 3\n",
        "while x > 3:\n",
        "  x = x + 3\n",
        "  print(x)"
      ],
      "metadata": {
        "colab": {
          "base_uri": "https://localhost:8080/"
        },
        "id": "SF8C_9xd6MiP",
        "outputId": "b5768c1c-52f7-4af1-b192-3c6ddcf435bc"
      },
      "execution_count": null,
      "outputs": [
        {
          "output_type": "stream",
          "name": "stdout",
          "text": [
            "Digite la calificacion 1: 4\n",
            "Digite la calificacion 2: 4\n",
            "Digite la calificacion 3: 3\n",
            "su calificacion final es= 3.67\n"
          ]
        }
      ]
    },
    {
      "cell_type": "code",
      "source": [
        "#funciones\n",
        "no_identificacion = float(input(\"Digite número de identificacion: \") )\n",
        "nombre = input(\"Digite Nombre: \")\n",
        "apellido = input(\"Digite Apellido: \")\n",
        "direccion = input(\"Digite direccion: \")\n",
        "telefono = float(input(\"Digite número de telefono: \") )\n",
        "edad = float(input(\"Digite edad: \"))\n",
        "if edad > 55:\n",
        "  print(\"disfrutará de un bono de prepensión\")\n",
        "else:\n",
        "  print(\"No tiene bono Prepension!\")\n",
        "estado_civil = input(\"Digite Estado Civil: \")\n",
        "casada = \"casada\"\n",
        "if estado_civil == casada:\n",
        "  print(\"disfrutará de un paseo en Diciembre si tiene hijos\")\n",
        "else:\n",
        "  print(\"No tiene paseo en Diciembre!\")\n",
        "no_hijos = float(input(\"Digite número de Hijos: \") )\n",
        "if no_hijos >= 1: \n",
        "  print(\"disfrutará de un paseo en Diciembre si esta casada\")\n",
        "else:\n",
        "  print(\"No tiene paseo en Diciembre!\")\n",
        "#estatura = float(input(\"Digite estatura: \"))\n",
        "def valestatura(est):\n",
        "  if est > 1.50:\n",
        "    print(\"Eres una persona ALTA\")\n",
        "  else:\n",
        "    print(\"Eres una persona CHAPARRA\")\n",
        "\n",
        "resp = \"si\"\n",
        "while resp == \"si\" or resp == \"s\" or resp == \"yes\":\n",
        "  estatura = float(input(\"Digite su estatura: \"))\n",
        "  valestatura(estatura)\n",
        "  resp = input(\"¿Dese realizar otra comparación?\")"
      ],
      "metadata": {
        "colab": {
          "base_uri": "https://localhost:8080/"
        },
        "id": "NvO2oy6p9qn5",
        "outputId": "58290154-1b32-4755-985e-86bb9adc0b6b"
      },
      "execution_count": null,
      "outputs": [
        {
          "name": "stdout",
          "output_type": "stream",
          "text": [
            "Digite número de identificacion: 1233\n",
            "Digite Nombre: ders\n",
            "Digite Apellido: csre\n",
            "Digite direccion: cdd455\n",
            "Digite número de telefono: 12335\n",
            "Digite edad: 34\n",
            "No tiene bono Prepension!\n",
            "Digite Estado Civil: casada\n",
            "disfrutará de un paseo en Diciembre si tiene hijos\n",
            "Digite número de Hijos: 1\n",
            "disfrutará de un paseo en Diciembre si esta casada\n",
            "Digite su estatura: 145\n",
            "Eres una persona ALTA\n",
            "¿Dese realizar otra comparación?n\n"
          ]
        }
      ]
    }
  ]
}