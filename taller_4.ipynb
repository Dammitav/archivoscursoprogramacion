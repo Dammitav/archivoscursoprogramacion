{
  "nbformat": 4,
  "nbformat_minor": 0,
  "metadata": {
    "colab": {
      "provenance": []
    },
    "kernelspec": {
      "name": "python3",
      "display_name": "Python 3"
    },
    "language_info": {
      "name": "python"
    }
  },
  "cells": [
    {
      "cell_type": "markdown",
      "source": [
        "Crear un bucle que cuente todos los números pares hasta\n",
        "el 100 ciclo for"
      ],
      "metadata": {
        "id": "Km_yqe3Nn0Xr"
      }
    },
    {
      "cell_type": "code",
      "source": [
        "for i in range(0, 102, 2):\n",
        "  print(i)"
      ],
      "metadata": {
        "colab": {
          "base_uri": "https://localhost:8080/"
        },
        "id": "_Q6_VkyGotyp",
        "outputId": "4236e31b-d933-4267-835d-63e7324d6914"
      },
      "execution_count": null,
      "outputs": [
        {
          "output_type": "stream",
          "name": "stdout",
          "text": [
            "0\n",
            "2\n",
            "4\n",
            "6\n",
            "8\n",
            "10\n",
            "12\n",
            "14\n",
            "16\n",
            "18\n",
            "20\n",
            "22\n",
            "24\n",
            "26\n",
            "28\n",
            "30\n",
            "32\n",
            "34\n",
            "36\n",
            "38\n",
            "40\n",
            "42\n",
            "44\n",
            "46\n",
            "48\n",
            "50\n",
            "52\n",
            "54\n",
            "56\n",
            "58\n",
            "60\n",
            "62\n",
            "64\n",
            "66\n",
            "68\n",
            "70\n",
            "72\n",
            "74\n",
            "76\n",
            "78\n",
            "80\n",
            "82\n",
            "84\n",
            "86\n",
            "88\n",
            "90\n",
            "92\n",
            "94\n",
            "96\n",
            "98\n",
            "100\n"
          ]
        }
      ]
    },
    {
      "cell_type": "markdown",
      "source": [
        "Haz una tabla de multiplicar utilizando el ciclo for\n",
        "ciclo for"
      ],
      "metadata": {
        "id": "yxOmkEGTn26S"
      }
    },
    {
      "cell_type": "code",
      "source": [
        "num = int(input(\"Digite el número de la tabla de multiplicar: \"))\n",
        "\n",
        "for i in range(11):\n",
        "  print(i, \" x \", num, \" = \",  i * num)"
      ],
      "metadata": {
        "colab": {
          "base_uri": "https://localhost:8080/"
        },
        "id": "pbNKMjAUq_D1",
        "outputId": "db7f110b-c625-4639-ac78-ad9da6520827"
      },
      "execution_count": null,
      "outputs": [
        {
          "output_type": "stream",
          "name": "stdout",
          "text": [
            "Digite el número de la tabla de multiplicar: 3\n",
            "0  x  3  =  0\n",
            "1  x  3  =  3\n",
            "2  x  3  =  6\n",
            "3  x  3  =  9\n",
            "4  x  3  =  12\n",
            "5  x  3  =  15\n",
            "6  x  3  =  18\n",
            "7  x  3  =  21\n",
            "8  x  3  =  24\n",
            "9  x  3  =  27\n",
            "10  x  3  =  30\n"
          ]
        }
      ]
    },
    {
      "cell_type": "markdown",
      "source": [
        "Escribir un programa que pregunte al usuario su edad y\n",
        "muestre por pantalla todos los años que ha cumplido\n",
        "(desde 1 hasta su edad). ciclo for"
      ],
      "metadata": {
        "id": "bAwVZYjMn5Vh"
      }
    },
    {
      "cell_type": "code",
      "source": [
        "edad = input(\"Digite su edad: \")\n",
        "acu = 0\n",
        "for i in range(1, 11,):\n",
        "  print(i)\n",
        "  acu = acu + i\n",
        "  print(f\"has cumplido= {acu}\")\n",
        "\n"
      ],
      "metadata": {
        "colab": {
          "base_uri": "https://localhost:8080/"
        },
        "id": "uzsI586PrW3W",
        "outputId": "8be3f52b-ae27-4d01-9076-fb25c6aa5759"
      },
      "execution_count": null,
      "outputs": [
        {
          "output_type": "stream",
          "name": "stdout",
          "text": [
            "Digite su edad: 35\n",
            "1\n",
            "has cumplido= 1\n",
            "2\n",
            "has cumplido= 3\n",
            "3\n",
            "has cumplido= 6\n",
            "4\n",
            "has cumplido= 10\n",
            "5\n",
            "has cumplido= 15\n",
            "6\n",
            "has cumplido= 21\n",
            "7\n",
            "has cumplido= 28\n",
            "8\n",
            "has cumplido= 36\n",
            "9\n",
            "has cumplido= 45\n",
            "10\n",
            "has cumplido= 55\n"
          ]
        }
      ]
    },
    {
      "cell_type": "markdown",
      "source": [
        "Escribir un programa que pida al usuario un número entero\n",
        "positivo y muestre por pantalla todos los números\n",
        "impares desde 1 hasta ese número separados por comas."
      ],
      "metadata": {
        "id": "UwEb8EPrn7rO"
      }
    },
    {
      "cell_type": "code",
      "source": [
        "entero = input(\"Digite nuemro entero: \")\n",
        "for i in range(0, 11, 3):\n",
        "  print(i)\n"
      ],
      "metadata": {
        "colab": {
          "base_uri": "https://localhost:8080/"
        },
        "id": "R_rEePon01Z2",
        "outputId": "12b08985-60bf-427d-db1a-04740038f590"
      },
      "execution_count": null,
      "outputs": [
        {
          "output_type": "stream",
          "name": "stdout",
          "text": [
            "Digite nuemro entero: 7\n",
            "0\n",
            "3\n",
            "6\n",
            "9\n"
          ]
        }
      ]
    },
    {
      "cell_type": "markdown",
      "source": [
        "Encuentra la suma de todos los números pares del 1 al\n",
        "100 ciclo for"
      ],
      "metadata": {
        "id": "q_HWjRUvn90K"
      }
    },
    {
      "cell_type": "code",
      "source": [
        "# variables acumuladoras\n",
        "acu = 0\n",
        "\n",
        "for i in range(0,102,2):\n",
        "  # print(i)\n",
        "  acu = acu + i\n",
        "print(f\"El total de la suma de los número pares del 0-100= {acu}\")"
      ],
      "metadata": {
        "colab": {
          "base_uri": "https://localhost:8080/"
        },
        "id": "P1uTMOgG0iuC",
        "outputId": "2639b9f3-d055-449a-fbef-f3aec2adc8e2"
      },
      "execution_count": null,
      "outputs": [
        {
          "output_type": "stream",
          "name": "stdout",
          "text": [
            "El total de la suma de los número pares del 0-100= 2550\n"
          ]
        }
      ]
    }
  ]
}