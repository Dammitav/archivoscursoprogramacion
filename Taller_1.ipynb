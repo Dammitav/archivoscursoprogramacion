{
  "nbformat": 4,
  "nbformat_minor": 0,
  "metadata": {
    "colab": {
      "provenance": []
    },
    "kernelspec": {
      "name": "python3",
      "display_name": "Python 3"
    },
    "language_info": {
      "name": "python"
    }
  },
  "cells": [
    {
      "cell_type": "code",
      "execution_count": null,
      "metadata": {
        "colab": {
          "base_uri": "https://localhost:8080/"
        },
        "id": "xrC5M7YT3x9L",
        "outputId": "97e96b56-41be-4a56-b77f-9cbf0eaf76ae"
      },
      "outputs": [
        {
          "output_type": "stream",
          "name": "stdout",
          "text": [
            "123456789\n",
            "Gloria Damaris\n",
            "Velasquez Rodriguez\n",
            "cra 8 # 40 c 24\n",
            "60145247954\n",
            "36\n",
            "casada\n",
            "1\n",
            "160\n",
            "2017/8/1\n",
            "1000000\n",
            "365\n"
          ]
        }
      ],
      "source": [
        "from IPython.core.history import datetime\n",
        "no_Identificacion = 123456789\n",
        "print(no_Identificacion)\n",
        "nombre = \"Gloria Damaris\"\n",
        "print(nombre)\n",
        "apellido = \"Velasquez Rodriguez\"\n",
        "print(apellido)\n",
        "direccion = \"cra 8 # 40 c 24\" \n",
        "print(direccion)\n",
        "telefono = 60145247954\n",
        "print(telefono)\n",
        "edad = 36\n",
        "print(edad)\n",
        "estado_civil = \"casada\"\n",
        "print(estado_civil)\n",
        "no_hijos = 1\n",
        "print(no_hijos)\n",
        "estatura = 160\n",
        "print(estatura)\n",
        "from datetime import datetime\n",
        "#fecha_contratacion\n",
        "strDate = \"2017/8/1\"\n",
        "print(strDate)\n",
        "sueldo_basico = 1000000\n",
        "print(sueldo_basico)\n",
        "dias_laborados = 365\n",
        "print(dias_laborados)"
      ]
    }
  ]
}