{
  "nbformat": 4,
  "nbformat_minor": 0,
  "metadata": {
    "colab": {
      "provenance": []
    },
    "kernelspec": {
      "name": "python3",
      "display_name": "Python 3"
    },
    "language_info": {
      "name": "python"
    }
  },
  "cells": [
    {
      "cell_type": "markdown",
      "source": [
        "Dando continuidad con la primera entrega del proyecto, en esta oportunidad el estudiante debe realizar las siguientes validaciones utilizando la sentencia condicional IF.\n",
        "\n",
        "Si el empleado es mayor de 55 años disfrutará de un bono de prepensión correspondiente al 5% de su sueldo básico.\n",
        "\n",
        "Si el empleado es casado y tiene hijos se le otorgará un paseo cada diciembre\n",
        "\n",
        "Si el sueldo básico está entre 1000000 y 1500000 tendrá una comisión del 2% sobre el valor del sueldo; Si el sueldo básico está entre 1500001 y 2000000 tendrá una comisión del 5% sobre el valor del sueldo; para todos los demás casos no habrá comisión.\n",
        "\n",
        "Si el empleado trabajó más de 20 días al mes y su sueldo es menor a 1000000 tendrá derecho a un bono de alimentación."
      ],
      "metadata": {
        "id": "1uJ3au5cS5cZ"
      }
    },
    {
      "cell_type": "code",
      "source": [
        "no_identificacion = float(input(\"Digite número de identificacion: \") )\n",
        "nombre = input(\"Digite Nombre: \")\n",
        "apellido = input(\"Digite Apellido: \")\n",
        "direccion = input(\"Digite direccion: \")\n",
        "telefono = float(input(\"Digite número de telefono: \") )\n",
        "edad = float(input(\"Digite edad: \"))\n",
        "if edad > 55:\n",
        "  print(\"disfrutará de un bono de prepensión\")\n",
        "else:\n",
        "  print(\"No tiene bono Prepension!\")\n",
        "estado_civil = input(\"Digite Estado Civil: \")\n",
        "casada = \"casada\"\n",
        "if estado_civil == casada:\n",
        "  print(\"disfrutará de un paseo en Diciembre si tiene hijos\")\n",
        "else:\n",
        "  print(\"No tiene paseo en Diciembre!\")\n",
        "no_hijos = float(input(\"Digite número de Hijos: \") )\n",
        "if no_hijos >= 1: \n",
        "  print(\"disfrutará de un paseo en Diciembre si esta casada\")\n",
        "else:\n",
        "  print(\"No tiene paseo en Diciembre!\")\n",
        "estatura = float(input(\"Digite estatura: \"))\n",
        "\n",
        "sueldo = float(input(\"Digite sueldo: \"))\n",
        "if sueldo >= 1000000 and sueldo < 1500000:\n",
        "  print(\"tendrá una comisión del 2% sobre el valor del sueldo\")\n",
        "else:\n",
        "  print(\"No tienes comisión del 2%\")\n",
        "if sueldo >= 1500001 and sueldo < 2000000:\n",
        "  print(\"tendrá una comisión del 5% sobre el valor del sueldo\")\n",
        "else:\n",
        "  print(\"No tienes comisión del 5%\")\n",
        "\n",
        "dias_laborados = float(input(\"Digite Dias Laborados: \"))\n",
        "if dias_laborados > 20 and sueldo < 1000000:\n",
        "  print(\"derecho a un bono de alimentación\")\n",
        "else:\n",
        "  print(\"No tienes bono de alimentacion\")"
      ],
      "metadata": {
        "colab": {
          "base_uri": "https://localhost:8080/"
        },
        "id": "Rw-w6OuoS6aG",
        "outputId": "2796164d-da0e-497f-ee66-3877dbb7c3c1"
      },
      "execution_count": null,
      "outputs": [
        {
          "output_type": "stream",
          "name": "stdout",
          "text": [
            "Digite número de identificacion: 546789\n",
            "Digite Nombre: maria\n",
            "Digite Apellido: perez\n",
            "Digite direccion: calle 5 #55\n",
            "Digite número de telefono: 234567\n",
            "Digite edad: 56\n",
            "disfrutará de un bono de prepensión\n",
            "Digite Estado Civil: casada\n",
            "disfrutará de un paseo en Diciembre si tiene hijos\n",
            "Digite número de Hijos: 2\n",
            "disfrutará de un paseo en Diciembre si esta casada\n",
            "Digite estatura: 123\n",
            "Digite sueldo: 1556000\n",
            "No tienes comisión del 2%\n",
            "tendrá una comisión del 5% sobre el valor del sueldo\n",
            "Digite Dias Laborados: 45\n",
            "No tienes bono de alimentacion\n"
          ]
        }
      ]
    }
  ]
}